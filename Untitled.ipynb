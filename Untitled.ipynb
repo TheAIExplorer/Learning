{
 "cells": [
  {
   "cell_type": "code",
   "execution_count": 3,
   "id": "a1f32db7-b7d6-4755-9219-27fdda129e75",
   "metadata": {
    "tags": []
   },
   "outputs": [
    {
     "name": "stdout",
     "output_type": "stream",
     "text": [
      "1/1 [==============================] - 0s 62ms/step\n",
      "Binary Predictions:\n",
      " [[[[0.24671064 0.24825229 0.23980087 0.2652362 ]\n",
      "   [0.2410367  0.2523542  0.23567821 0.27093086]\n",
      "   [0.24069244 0.25436157 0.23835452 0.2665915 ]\n",
      "   ...\n",
      "   [0.24857587 0.24967945 0.2398889  0.26185578]\n",
      "   [0.25372463 0.2450528  0.23898044 0.26224214]\n",
      "   [0.2451105  0.2559452  0.23464438 0.2642999 ]]\n",
      "\n",
      "  [[0.24794586 0.24821049 0.24282421 0.26101944]\n",
      "   [0.2470892  0.2579774  0.2373172  0.25761622]\n",
      "   [0.25089893 0.24524742 0.23786232 0.2659913 ]\n",
      "   ...\n",
      "   [0.24228546 0.24973449 0.24027756 0.26770246]\n",
      "   [0.24523106 0.25286943 0.24058793 0.26131153]\n",
      "   [0.24465384 0.2535632  0.24182796 0.259955  ]]\n",
      "\n",
      "  [[0.24861315 0.25448412 0.23146458 0.26543814]\n",
      "   [0.2474102  0.24622296 0.24419074 0.2621761 ]\n",
      "   [0.25178775 0.2568726  0.22870159 0.26263806]\n",
      "   ...\n",
      "   [0.25174358 0.24899694 0.23646943 0.26279008]\n",
      "   [0.24812494 0.25136662 0.24127562 0.2592328 ]\n",
      "   [0.24517736 0.2552386  0.24081367 0.25877038]]\n",
      "\n",
      "  ...\n",
      "\n",
      "  [[0.24586822 0.25620463 0.23088387 0.26704332]\n",
      "   [0.25074625 0.25147808 0.23707627 0.2606994 ]\n",
      "   [0.24259862 0.2564232  0.23842509 0.2625531 ]\n",
      "   ...\n",
      "   [0.253216   0.2565564  0.23197491 0.25825265]\n",
      "   [0.24398959 0.24254963 0.23750837 0.2759524 ]\n",
      "   [0.24455403 0.2508403  0.23764469 0.26696092]]\n",
      "\n",
      "  [[0.24781822 0.2538031  0.23874271 0.25963596]\n",
      "   [0.24838673 0.2504285  0.23611286 0.2650719 ]\n",
      "   [0.24962366 0.24636632 0.23922154 0.26478845]\n",
      "   ...\n",
      "   [0.25211182 0.25217333 0.2410673  0.25464758]\n",
      "   [0.24393182 0.2534832  0.23575212 0.2668329 ]\n",
      "   [0.24892293 0.2503776  0.24118418 0.25951532]]\n",
      "\n",
      "  [[0.24469636 0.25002205 0.24167237 0.2636092 ]\n",
      "   [0.24334802 0.258909   0.23567922 0.2620638 ]\n",
      "   [0.24379121 0.25100255 0.24507202 0.26013422]\n",
      "   ...\n",
      "   [0.250727   0.24938652 0.2393677  0.2605188 ]\n",
      "   [0.24527389 0.24754241 0.23869953 0.26848415]\n",
      "   [0.24857607 0.25700355 0.23471312 0.25970724]]]]\n"
     ]
    }
   ],
   "source": [
    "import numpy as np\n",
    "import tensorflow as tf\n",
    "from tensorflow.keras.layers import Conv2D, MaxPooling2D\n",
    "\n",
    "# Define the convnet architecture\n",
    "def create_convnet():\n",
    "    model = tf.keras.Sequential([\n",
    "        Conv2D(16, (5, 5), activation='relu', input_shape=(None, None, 3)),\n",
    "        MaxPooling2D((2, 2)),\n",
    "        Conv2D(400, (5, 5), activation='relu'),\n",
    "        Conv2D(400, (1, 1), activation='relu'),\n",
    "        Conv2D(4, (1, 1), activation='softmax')\n",
    "    ])\n",
    "    return model\n",
    "\n",
    "# Simulate an example input image\n",
    "input_image = np.random.random((1, 128, 128, 3))\n",
    "\n",
    "# Create the convnet\n",
    "convnet = create_convnet()  # Example: 2 classes (object present or not)\n",
    "\n",
    "# Perform forward pass\n",
    "prediction_map = convnet.predict(input_image)\n",
    "\n",
    "# Threshold the prediction map (you can adjust the threshold value)\n",
    "threshold = 0.5\n",
    "binary_predictions = prediction_map[..., 1] > threshold  # Assuming class 1 represents object presence\n",
    "\n",
    "# Apply post-processing if necessary (e.g., non-maximum suppression)\n",
    "\n",
    "# Visualize or process binary_predictions (e.g., draw bounding boxes on the original image)\n",
    "\n",
    "# Print or visualize the results\n",
    "print(\"Binary Predictions:\\n\", binary_predictions)\n"
   ]
  },
  {
   "cell_type": "code",
   "execution_count": 4,
   "id": "03d936e8-1006-4f07-8f9d-77c7c4db7e64",
   "metadata": {},
   "outputs": [],
   "source": []
  },
  {
   "cell_type": "code",
   "execution_count": null,
   "id": "8d15aabc-6849-4dd7-a762-07d2dd9e8010",
   "metadata": {},
   "outputs": [],
   "source": []
  }
 ],
 "metadata": {
  "kernelspec": {
   "display_name": "Python 3.10 (tensorflow-gpu)",
   "language": "python",
   "name": "tensorflow-gpu"
  },
  "language_info": {
   "codemirror_mode": {
    "name": "ipython",
    "version": 3
   },
   "file_extension": ".py",
   "mimetype": "text/x-python",
   "name": "python",
   "nbconvert_exporter": "python",
   "pygments_lexer": "ipython3",
   "version": "3.10.12"
  }
 },
 "nbformat": 4,
 "nbformat_minor": 5
}
